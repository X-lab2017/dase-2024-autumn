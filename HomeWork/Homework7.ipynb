{
 "cells": [
  {
   "cell_type": "markdown",
   "metadata": {},
   "source": [
    "### 数据预处理\n",
    " - 数据质量：缺失值处理、异常处理、重复数据\n",
    " - 数据结构：格式转化、数据合并\n",
    "\n",
    "### 1. 删除重复数据，并输出去重前后的数据量\n",
    "### 2. 缺失值处理\n",
    "- 首先，去掉 gravatar_id 列，并查看各列的缺失值的情况\n",
    "- 其次，将可转化成 boolean 变量的列字段转化成 boolean 变量，文本数据用空字符串填充空值......\n",
    "- 最后，再次看各列有无缺失值\n",
    "### 3. 数据变换，将created_at、updated_at转为时间戳\n",
    "### 4. 数据可视化\n",
    "- 4.1 可视化bot和hunman类型的情况（展示图表自选，并在报告中说明选择原因、结果分析以及数据洞察）\n",
    "- 4.2 可视化bot类型账号的活跃情况（展示图表自选，并在报告中说明选择原因、结果分析以及数据洞察）\n",
    "- 4.3 可视化human类型账号的活跃情况（展示图表自选，并在报告中说明选择原因、结果分析以及数据洞察）\n",
    "- 4.4 可视化bot类型账号的followers和following情况（展示图表自选，并在报告中说明选择原因、结果分析以及数据洞察）\n",
    "- 4.5 可视化human类型账号的followers和following情况（展示图表自选，并在报告中说明选择原因、结果分析以及数据洞察）"
   ]
  },
  {
   "cell_type": "code",
   "execution_count": 3,
   "metadata": {},
   "outputs": [],
   "source": [
    "import pandas as pd\n",
    "raw_data = pd.read_csv('github_bot_raw_data.csv') \n",
    "#列字段解读\n",
    "columns = [\n",
    "    'actor_id',  # GitHub用户的ID (示例值: 1081405)\n",
    "    'label',  # 用户标签（\"Human\"或\"Bot\"） (示例值: Human)\n",
    "    'login',  # GitHub用户的登录名 (示例值: dlazesz)\n",
    "    'id',  # 用户的GitHub ID (示例值: 1081405)\n",
    "    'node_id',  # 用户的GitHub节点ID (示例值: MDQ6VXNlcjEwODE0MDU=)\n",
    "    'avatar_url',  # GitHub头像URL (示例值: https://avatars.githubusercontent.com/u/1081405?v=4)\n",
    "    'gravatar_id',  # Gravatar ID (示例值: None)\n",
    "    'url',  # GitHub用户的URL (示例值: https://api.github.com/users/dlazesz)\n",
    "    'html_url',  # GitHub用户的HTML URL (示例值: https://github.com/dlazesz)\n",
    "    'followers_url',  # GitHub用户的粉丝URL (示例值: https://api.github.com/users/dlazesz/followers)\n",
    "    'following_url',  # GitHub用户的关注URL (示例值: https://api.github.com/users/dlazesz/following{/other_user})\n",
    "    'gists_url',  # 用户的GitHub Gists URL (示例值: https://api.github.com/users/dlazesz/gists{/gist_id})\n",
    "    'starred_url',  # 用户的GitHub Starred URL (示例值: https://api.github.com/users/dlazesz/starred{/owner}{/repo})\n",
    "    'subscriptions_url',  # 用户的GitHub订阅URL (示例值: https://api.github.com/users/dlazesz/subscriptions)\n",
    "    'organizations_url',  # 用户的GitHub组织URL (示例值: https://api.github.com/users/dlazesz/orgs)\n",
    "    'repos_url',  # 用户的GitHub仓库URL (示例值: https://api.github.com/users/dlazesz/repos)\n",
    "    'events_url',  # 用户的GitHub事件URL (示例值: https://api.github.com/users/dlazesz/events{/privacy})\n",
    "    'received_events_url',  # 用户的GitHub接收事件URL (示例值: https://api.github.com/users/dlazesz/received_events)\n",
    "    'type',  # 用户类型，通常为\"User\" (示例值: User)\n",
    "    'site_admin',  # 表示用户是否是GitHub网站管理员的标志 (示例值: False)\n",
    "    'name',  # 用户的姓名 (示例值: Indig Balázs)\n",
    "    'company',  # 用户所在公司 (示例值: None)\n",
    "    'blog',  # 用户的博客 (示例值: None)\n",
    "    'location',  # 用户的位置 (示例值: None)\n",
    "    'email',  # 用户的电子邮件 (示例值: None)\n",
    "    'hireable',  # 表示用户是否愿意被雇佣的标志 (示例值: None)\n",
    "    'bio',  # 用户在其GitHub资料中提供的自我介绍或个人简介 (示例值: None)\n",
    "    'twitter_username',  # 用户的Twitter用户名 (示例值: None)\n",
    "    'public_repos',  # 用户在GitHub上的公共代码仓库数量 (示例值: 26)\n",
    "    'public_gists',  # 用户的公共Gists数量 (示例值: 1)\n",
    "    'followers',  # 关注该用户的其他GitHub用户数量 (示例值: 5)\n",
    "    'following',  # 该用户关注的其他GitHub用户数量 (示例值: 1)\n",
    "    'created_at',  # 用户的GitHub帐户创建日期 (示例值: 2011-09-26T17:27:03Z)\n",
    "    'updated_at',  # 用户的GitHub帐户最后更新日期 (示例值: 2023-10-13T11:21:10Z)\n",
    "]\n",
    "data = raw_data[columns]"
   ]
  }
 ],
 "metadata": {
  "kernelspec": {
   "display_name": "base",
   "language": "python",
   "name": "python3"
  },
  "language_info": {
   "codemirror_mode": {
    "name": "ipython",
    "version": 3
   },
   "file_extension": ".py",
   "mimetype": "text/x-python",
   "name": "python",
   "nbconvert_exporter": "python",
   "pygments_lexer": "ipython3",
   "version": "3.11.7"
  }
 },
 "nbformat": 4,
 "nbformat_minor": 2
}
