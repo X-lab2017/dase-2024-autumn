{
 "cells": [
  {
   "cell_type": "markdown",
   "metadata": {},
   "source": [
    "## 数据探索与可视化"
   ]
  },
  {
   "cell_type": "markdown",
   "metadata": {},
   "source": [
    "### 实验目标\n",
    "- 学习并掌握如何使用Python进行数据探索与可视化。\n",
    "- 理解并应用数据探索的基本方法，包括数据清洗、格式化和描述性统计分析。\n",
    "- 使用Matplotlib和Seaborn等可视化工具，绘制不同类型的图表，分析数据分布及特征之间的关系。\n",
    "- 利用pandas_profiling生成数据的交互式报告，全面了解数据的分布、缺失值和异常值。\n",
    "\n",
    "### 实验要求\n",
    "\n",
    "1. 使用pandas读取数据集github_bot_processed_data.csv。探索pandas的显示选项，以便查看更多数据行和列。\n",
    "2. 使用head()方法查看数据的前几行，并使用info()方法查看每列的数据类型，观察两者的区别。\n",
    "使用describe()方法生成数据的描述性统计信息。\n",
    "3. 对数据进行格式化处理，并展示不同格式（例如，日期、货币、百分比等）的效果。\n",
    "4. 对public_repos、public_gists、followers、following等列进行对数变换，并查看其影响。\n",
    "5. 使用Matplotlib绘制图表\n",
    "    - 绘制条形图：展示label列的类别分布。\n",
    "    - 绘制堆积柱状图：展示多个布尔特征（如site_admin、company等）的分布。\n",
    "    - 绘制直方图：展示log_public_repos的对数变换后的数据分布。\n",
    "    - 绘制散点图：展示public_repos与followers之间的关系。\n",
    "    - 绘制散点矩阵：展示多个数值型特征之间的成对关系。\n",
    "6. 使用Seaborn绘制图表\n",
    "    - 绘制箱线图：展示不同label类别下log_followers的分布。\n",
    "    - 绘制成对图：展示不同特征之间的成对关系，并根据label分类。\n",
    "    - 绘制热图：展示log_public_repos、log_public_gists、log_followers和log_following等特征之间的相关性。\n",
    "    - 绘制小提琴图：展示label与log_followers之间的分布差异。\n",
    "7. 使用pandas_profiling.ProfileReport()生成交互式数据分析报告，分析数据的统计分布、缺失值、异常值等。"
   ]
  }
 ],
 "metadata": {
  "kernelspec": {
   "display_name": "base",
   "language": "python",
   "name": "python3"
  },
  "language_info": {
   "codemirror_mode": {
    "name": "ipython",
    "version": 3
   },
   "file_extension": ".py",
   "mimetype": "text/x-python",
   "name": "python",
   "nbconvert_exporter": "python",
   "pygments_lexer": "ipython3",
   "version": "3.8.5"
  }
 },
 "nbformat": 4,
 "nbformat_minor": 2
}
